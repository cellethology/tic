{
 "cells": [
  {
   "cell_type": "markdown",
   "id": "b3b0e42f",
   "metadata": {},
   "source": [
    "# Pseudo-Time Analysis Pipeline\n",
    "\n",
    "## Introduction\n",
    "This notebook implements a pipeline for analyzing pseudo-time in cellular graph datasets. The pipeline includes the following steps:\n",
    "\n",
    "1. **Dataset Initialization**\n",
    "2. **Subgraph Sampling**\n",
    "3. **Embedding Preparation**\n",
    "4. **Pseudo-Time Analysis**\n",
    "5. **Visualization and Output**\n",
    "\n",
    "All configurations are controlled through the `Config` class."
   ]
  },
  {
   "cell_type": "code",
   "execution_count": null,
   "id": "2b2a27e3",
   "metadata": {},
   "outputs": [],
   "source": [
    "from adapters.space_gm_adapter import CustomSubgraphSampler\n",
    "from spacegm import CellularGraphDataset\n",
    "\n"
   ]
  },
  {
   "cell_type": "markdown",
   "id": "68c38410",
   "metadata": {},
   "source": [
    "## Configuration\n",
    "Modify the parameters in the `Config` class to customize the pipeline for your dataset and analysis needs."
   ]
  },
  {
   "cell_type": "code",
   "execution_count": 2,
   "id": "89fbde22",
   "metadata": {},
   "outputs": [],
   "source": [
    "class Config:\n",
    "    def __init__(self):\n",
    "        # Paths\n",
    "        self.data_root = \"/root/autodl-tmp/Data/Space-Gm/Processed_Dataset/UPMC\"\n",
    "        self.output_dir = \"/root/TIC/data/embedding_analysis/pseudotime_analysis/tumor_test\"\n",
    "        self.model_path = \"/root/autodl-tmp/Data/Space-Gm/Processed_Dataset/UPMC/model/graph_level/GIN-primary_outcome-0/model_save_6.pt\"\n",
    "        self.device = 'cuda:0'\n",
    "\n",
    "        # Dataset parameters\n",
    "        self.dataset_kwargs = {\n",
    "            'raw_folder_name': 'graph',\n",
    "            'processed_folder_name': 'tg_graph',\n",
    "            'node_features': [\"cell_type\", \"SIZE\", \"biomarker_expression\", \"neighborhood_composition\", \"center_coord\"],\n",
    "            'edge_features': [\"edge_type\", \"distance\"],\n",
    "            'cell_type_mapping': None,\n",
    "            'cell_type_freq': None,\n",
    "            'biomarkers': [\"ASMA\", \"PANCK\", \"VIMENTIN\", \"PODOPLANIN\"],\n",
    "            'subgraph_size': 3,\n",
    "            'subgraph_source': 'chunk_save',\n",
    "            'subgraph_allow_distant_edge': True,\n",
    "            'subgraph_radius_limit': 55 * 3 + 35,\n",
    "            'biomarker_expression_process_method': \"linear\",\n",
    "            'biomarker_expression_lower_bound': 0,\n",
    "            'biomarker_expression_upper_bound': 18,\n",
    "            'neighborhood_size': 10,\n",
    "        }\n",
    "\n",
    "        # Sampler parameters\n",
    "        self.sampler_kwargs = {\n",
    "            'total_samples': 1000,\n",
    "            'cell_type': 9,\n",
    "            'region_id': None,\n",
    "            'batch_size': 64,\n",
    "            'num_workers': 8,\n",
    "            'include_node_info': True,\n",
    "            'random_seed': 42,\n",
    "        }\n",
    "\n",
    "        # Pseudo-time analysis parameters\n",
    "        self.embedding_keys = [\n",
    "            \"expression_vectors\", \n",
    "            \"composition_vectors\", \n",
    "            \"node_embeddings\", \n",
    "            \"graph_embeddings\",\n",
    "            \"composition_vectors+expression_vectors\",\n",
    "            \"node_embeddings+expression_vectors\",\n",
    "            \"graph_embeddings+composition_vectors\"\n",
    "        ]\n",
    "        self.start_nodes = [0, 1]\n",
    "        self.biomarkers = [\"ASMA\", \"PANCK\", \"VIMENTIN\", \"PODOPLANIN\"]\n",
    "        self.show_plots = True\n",
    "        self.num_bins = 100\n",
    "        self.use_bins = True\n",
    "        self.plotting_transform = 'smooth'"
   ]
  },
  {
   "cell_type": "markdown",
   "id": "d6dfffc1",
   "metadata": {},
   "source": [
    "## Step 1: Dataset Initialization\n",
    "Load and preprocess the cellular graph dataset."
   ]
  },
  {
   "cell_type": "code",
   "execution_count": null,
   "id": "5b0030a2",
   "metadata": {},
   "outputs": [],
   "source": [
    "def initialize_dataset(root_path, dataset_kwargs):\n",
    "    return CellularGraphDataset(root_path, **dataset_kwargs)\n",
    "\n",
    "config = Config()\n",
    "dataset = initialize_dataset(config.data_root, config.dataset_kwargs)"
   ]
  },
  {
   "cell_type": "markdown",
   "id": "39897cdc",
   "metadata": {},
   "source": [
    "## Step 2: Subgraph Sampling\n",
    "Sample subgraphs based on specific conditions like cell type or region."
   ]
  },
  {
   "cell_type": "code",
   "execution_count": null,
   "id": "ce384a5a",
   "metadata": {},
   "outputs": [],
   "source": [
    "def initialize_sampler(dataset, sampler_kwargs):\n",
    "    return CustomSubgraphSampler(dataset, **sampler_kwargs)\n",
    "\n",
    "sampler = initialize_sampler(dataset, config.sampler_kwargs)"
   ]
  },
  {
   "cell_type": "markdown",
   "id": "cd8c894c",
   "metadata": {},
   "source": [
    "## Step 3: Embedding Preparation\n",
    "Prepare and concatenate embeddings for the sampled subgraphs."
   ]
  },
  {
   "cell_type": "code",
   "execution_count": null,
   "id": "83e82eae",
   "metadata": {},
   "outputs": [],
   "source": [
    "from scripts.pseudotime_analysis import prepare_embeddings\n",
    "\n",
    "sampler = prepare_embeddings(dataset, sampler, config.model_path, config.device, config.embedding_keys)"
   ]
  },
  {
   "cell_type": "markdown",
   "id": "62aead30",
   "metadata": {},
   "source": [
    "## Step 4: Pseudo-Time Analysis\n",
    "Perform dimensionality reduction, clustering, and compute pseudo-time for selected start nodes."
   ]
  },
  {
   "cell_type": "code",
   "execution_count": null,
   "id": "15f87630",
   "metadata": {},
   "outputs": [],
   "source": [
    "from scripts.pseudotime_analysis import perform_pseudo_time_analysis_pipeline\n",
    "\n",
    "perform_pseudo_time_analysis_pipeline(config, sampler)"
   ]
  },
  {
   "cell_type": "markdown",
   "id": "90e5d555",
   "metadata": {},
   "source": [
    "## Step 5: Visualization and Output\n",
    "Visualize biomarker trends across pseudo-time and save results."
   ]
  }
 ],
 "metadata": {
  "kernelspec": {
   "display_name": "base",
   "language": "python",
   "name": "python3"
  },
  "language_info": {
   "codemirror_mode": {
    "name": "ipython",
    "version": 3
   },
   "file_extension": ".py",
   "mimetype": "text/x-python",
   "name": "python",
   "nbconvert_exporter": "python",
   "pygments_lexer": "ipython3",
   "version": "3.10.8"
  }
 },
 "nbformat": 4,
 "nbformat_minor": 5
}
