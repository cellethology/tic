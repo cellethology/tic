{
 "cells": [
  {
   "cell_type": "markdown",
   "metadata": {},
   "source": [
    "# pipeline of doing pseudotime analysis"
   ]
  },
  {
   "cell_type": "code",
   "execution_count": 1,
   "metadata": {},
   "outputs": [
    {
     "name": "stderr",
     "output_type": "stream",
     "text": [
      "/Users/zhangjiahao/Project/tic/core/model/inference.py:83: UserWarning: \n",
      "The version_base parameter is not specified.\n",
      "Please specify a compatability version level, or None.\n",
      "Will assume defaults for version 1.1\n",
      "  @hydra.main(config_path=\"../../config/inference\", config_name=\"main\")\n",
      "/opt/anaconda3/envs/TIC/lib/python3.10/site-packages/tqdm/auto.py:21: TqdmWarning: IProgress not found. Please update jupyter and ipywidgets. See https://ipywidgets.readthedocs.io/en/stable/user_install.html\n",
      "  from .autonotebook import tqdm as notebook_tqdm\n"
     ]
    }
   ],
   "source": [
    "# Step 1: Import necessary libraries\n",
    "import os\n",
    "import numpy as np\n",
    "import matplotlib.pyplot as plt\n",
    "from omegaconf import DictConfig, OmegaConf\n",
    "from core.model.inference import run_inference\n",
    "from core.data.cell import CellBatch\n",
    "from core.pseduotime.dimensionality_reduction import DimensionalityReduction\n",
    "from core.pseduotime.clustering import Clustering\n",
    "from core.pseduotime.pseudotime import SlingshotMethod"
   ]
  },
  {
   "cell_type": "code",
   "execution_count": 2,
   "metadata": {},
   "outputs": [
    {
     "name": "stdout",
     "output_type": "stream",
     "text": [
      "inference:\n",
      "  checkpoint_path: /Users/zhangjiahao/Project/tic/results/train/2025-02-26_14-56-11/checkpoints/checkpoint_31_5000.pth\n",
      "  batch_size: 64\n",
      "  dataset_root: /Users/zhangjiahao/Project/tic/data\n",
      "  node_features:\n",
      "  - center_coord\n",
      "  - SIZE\n",
      "  - cell_type\n",
      "  - biomarker_expression\n",
      "  output_dir: /Users/zhangjiahao/Project/tic/results/train/2025-02-26_14-56-11/cells\n",
      "  device: cpu\n",
      "model:\n",
      "  num_layer: 3\n",
      "  emb_dim: 512\n",
      "  gnn_type: gin\n",
      "  dropout: 0.25\n",
      "clustering:\n",
      "  method: kmeans\n",
      "  n_clusters: 5\n",
      "dimensionality_reduction:\n",
      "  method: PCA\n",
      "  n_components: 2\n",
      "pseudotime_analysis:\n",
      "  start_node: 0\n",
      "  output_dir: /Users/zhangjiahao/Project/tic/results/train/2025-02-26_14-56-11/pseduotime\n",
      "\n"
     ]
    }
   ],
   "source": [
    "# Step 2: Define and Load Configuration\n",
    "# Define a dictionary for model configuration. This would be extended based on your actual model parameters.\n",
    "cfg = {\n",
    "    \"inference\": {\n",
    "        \"checkpoint_path\": \"/Users/zhangjiahao/Project/tic/results/train/2025-02-26_14-56-11/checkpoints/checkpoint_31_5000.pth\",\n",
    "        \"batch_size\": 64,\n",
    "        \"dataset_root\": \"/Users/zhangjiahao/Project/tic/data\",\n",
    "        \"node_features\":  [\"center_coord\", \"SIZE\", \"cell_type\", \"biomarker_expression\"],  # Node features to use\n",
    "        \"output_dir\": \"/Users/zhangjiahao/Project/tic/results/train/2025-02-26_14-56-11/cells\",\n",
    "        \"device\": \"cpu\" # Use \"cuda\" for GPU or \"cpu\" for CPU\n",
    "    },\n",
    "    \"model\": {\n",
    "        \"num_layer\": 3,\n",
    "        \"emb_dim\": 512,\n",
    "        \"gnn_type\": \"gin\",\n",
    "        \"dropout\": 0.25,\n",
    "    },\n",
    "    \"clustering\": {\n",
    "        \"method\": \"kmeans\",\n",
    "        \"n_clusters\": 5,\n",
    "    },\n",
    "    \"dimensionality_reduction\": {\n",
    "        \"method\": \"PCA\", # Use \"PCA\" or \"UMAP\" for dimensionality reduction\n",
    "        \"n_components\": 2,\n",
    "    },\n",
    "    \"pseudotime_analysis\": {\n",
    "        \"start_node\": 0,\n",
    "        \"output_dir\": \"/Users/zhangjiahao/Project/tic/results/train/2025-02-26_14-56-11/pseduotime\" # Output directory for pseudotime analysis visualization\n",
    "    }\n",
    "}\n",
    "\n",
    "# Convert the configuration to DictConfig object\n",
    "cfg = DictConfig(cfg)\n",
    "print(OmegaConf.to_yaml(cfg))"
   ]
  },
  {
   "cell_type": "markdown",
   "metadata": {},
   "source": [
    "## Run the GNN model to get embeddings (or use your own method) to extract embeddings"
   ]
  },
  {
   "cell_type": "code",
   "execution_count": null,
   "metadata": {},
   "outputs": [],
   "source": [
    "# run_inference(cfg) # this will use cfg.inference and cfg.model to run inference"
   ]
  },
  {
   "cell_type": "markdown",
   "metadata": {},
   "source": [
    "## Load Cells into a CellBatch object\n",
    "After running the GNN or other embedding method, you will load the embeddings as a batch of cells.\n",
    "Update the path to where the embeddings are stored."
   ]
  },
  {
   "cell_type": "code",
   "execution_count": 3,
   "metadata": {},
   "outputs": [
    {
     "name": "stdout",
     "output_type": "stream",
     "text": [
      "CellBatch(num_cells=2867)\n",
      "Shape of embeddings in cells: (2867, 512)\n"
     ]
    }
   ],
   "source": [
    "cell_dir = cfg.inference.output_dir\n",
    "cells = CellBatch(pkl_dir=cell_dir)\n",
    "print(cells)\n",
    "print(f\"Shape of embeddings in cells: {cells.get_embeddings().shape}\")"
   ]
  },
  {
   "cell_type": "code",
   "execution_count": null,
   "metadata": {},
   "outputs": [],
   "source": [
    "print(cells.cells[0])"
   ]
  },
  {
   "cell_type": "markdown",
   "metadata": {},
   "source": [
    "## Perform Dimensionality Reduction (e.g., UMAP)"
   ]
  },
  {
   "cell_type": "code",
   "execution_count": null,
   "metadata": {},
   "outputs": [],
   "source": [
    "# Using the configuration parameters for dimensionality reduction.\n",
    "dimension_reducer = DimensionalityReduction(method=cfg.dimensionality_reduction.method, \n",
    "                                            n_components=cfg.dimensionality_reduction.n_components)\n",
    "\n",
    "embeddings = cells.get_embeddings()\n",
    "umap_embeddings = dimension_reducer.reduce(embeddings)\n",
    "print(f\"Shape of UMAP embeddings: {umap_embeddings.shape}\")\n",
    "\n",
    "# Add the UMAP embeddings back into the cell batch for further analysis\n",
    "cells.add_umap_embeddings(umap_embeddings)"
   ]
  },
  {
   "cell_type": "markdown",
   "metadata": {},
   "source": [
    "## Perform Clustering (e.g., KMeans)"
   ]
  },
  {
   "cell_type": "code",
   "execution_count": null,
   "metadata": {},
   "outputs": [],
   "source": [
    "# Using the configured clustering method and number of clusters.\n",
    "cluster_method = cfg.clustering.method\n",
    "n_clusters = cfg.clustering.n_clusters\n",
    "cluster = Clustering(method=cluster_method, n_clusters=n_clusters)\n",
    "cluster_labels = cluster.cluster(umap_embeddings)"
   ]
  },
  {
   "cell_type": "markdown",
   "metadata": {},
   "source": [
    "## Perform Pseudotime Analysis using Slingshot"
   ]
  },
  {
   "cell_type": "code",
   "execution_count": null,
   "metadata": {},
   "outputs": [],
   "source": [
    "start_node = cfg.pseudotime_analysis.start_node\n",
    "output_dir = cfg.pseudotime_analysis.output_dir\n",
    "analysiser = SlingshotMethod(start_node=start_node)\n",
    "pseduotime = analysiser.analyze(cluster_labels, umap_embeddings, output_dir=output_dir)\n",
    "\n",
    "# Add the pseudotime values to the cell batch\n",
    "cells.add_pseudotimes(pseduotime)"
   ]
  },
  {
   "cell_type": "code",
   "execution_count": null,
   "metadata": {},
   "outputs": [],
   "source": [
    "cells.save(output_dir=cfg.inference.output_dir)\n",
    "print(f\"Saved the cell batch with pseudotime values at {cfg.inference.output_dir}\")"
   ]
  }
 ],
 "metadata": {
  "kernelspec": {
   "display_name": "TIC",
   "language": "python",
   "name": "python3"
  },
  "language_info": {
   "codemirror_mode": {
    "name": "ipython",
    "version": 3
   },
   "file_extension": ".py",
   "mimetype": "text/x-python",
   "name": "python",
   "nbconvert_exporter": "python",
   "pygments_lexer": "ipython3",
   "version": "3.10.16"
  }
 },
 "nbformat": 4,
 "nbformat_minor": 2
}
